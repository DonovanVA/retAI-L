{
 "cells": [
  {
   "cell_type": "code",
   "execution_count": 2,
   "metadata": {},
   "outputs": [
    {
     "name": "stdout",
     "output_type": "stream",
     "text": [
      "loading Roboflow workspace...\n",
      "loading Roboflow project...\n",
      "{'predictions': [{'time': 0.18595253499915998, 'image': {'width': 666, 'height': 338}, 'predictions': [{'class': 'shoe1', 'confidence': 0.8469}, {'class': 'shoe2', 'confidence': 0.0834}, {'class': 'none', 'confidence': 0.0697}], 'top': 'shoe1', 'confidence': 0.8469, 'image_path': 'C:\\\\Users\\\\donov\\\\Documents\\\\code\\\\YOLOV5\\\\shoe1.png', 'prediction_type': 'ClassificationModel'}], 'image': (666, 338)}\n",
      "{'predictions': [{'time': 0.18193606099885073, 'image': {'width': 272, 'height': 242}, 'predictions': [{'class': 'shoe2', 'confidence': 0.8119}, {'class': 'shoe1', 'confidence': 0.1156}, {'class': 'none', 'confidence': 0.0725}], 'top': 'shoe2', 'confidence': 0.8119, 'image_path': 'C:\\\\Users\\\\donov\\\\Documents\\\\code\\\\YOLOV5\\\\shoe2.png', 'prediction_type': 'ClassificationModel'}], 'image': (272, 242)}\n",
      "{'predictions': [{'time': 0.18360658699930354, 'image': {'width': 726, 'height': 416}, 'predictions': [{'class': 'shoe1', 'confidence': 0.4573}, {'class': 'none', 'confidence': 0.3367}, {'class': 'shoe2', 'confidence': 0.206}], 'top': 'shoe1', 'confidence': 0.4573, 'image_path': 'C:\\\\Users\\\\donov\\\\Documents\\\\code\\\\YOLOV5\\\\none.png', 'prediction_type': 'ClassificationModel'}], 'image': (726, 416)}\n"
     ]
    }
   ],
   "source": [
    "from roboflow import Roboflow\n",
    "## shoe1: nike Air Force 1 Low '07 \"White Black Pebbled Leather\"\n",
    "## shoe2: nike dunk low industrial blue\n",
    "\n",
    "rf = Roboflow(api_key=\"nDHiyB2cy2bkE6DoVYm9\")\n",
    "project = rf.workspace(\"school-oxayw\").project(\"shoe-classifier\")\n",
    "model = project.version(3).model\n",
    "# infer on a local image\n",
    "print(model.predict(r\"C:\\Users\\donov\\Documents\\code\\YOLOV5\\shoe1.png\").json())\n",
    "print(model.predict(r\"C:\\Users\\donov\\Documents\\code\\YOLOV5\\shoe2.png\").json())\n",
    "# infer on an image hosted elsewhere\n",
    "#print(model.predict(\"URL_OF_YOUR_IMAGE\", hosted=True).json())\n",
    "\n",
    "# save an image annotated with your predictions\n",
    "model.predict(r\"C:\\Users\\donov\\Documents\\code\\YOLOV5\\shoe1.png\").save(r\"C:\\Users\\donov\\Documents\\code\\YOLOV5\\pred_shoe1.png\")\n",
    "model.predict(r\"C:\\Users\\donov\\Documents\\code\\YOLOV5\\shoe2.png\").save(r\"C:\\Users\\donov\\Documents\\code\\YOLOV5\\pred_shoe2.png\")"
   ]
  }
 ],
 "metadata": {
  "kernelspec": {
   "display_name": "base",
   "language": "python",
   "name": "python3"
  },
  "language_info": {
   "codemirror_mode": {
    "name": "ipython",
    "version": 3
   },
   "file_extension": ".py",
   "mimetype": "text/x-python",
   "name": "python",
   "nbconvert_exporter": "python",
   "pygments_lexer": "ipython3",
   "version": "3.9.13"
  },
  "orig_nbformat": 4
 },
 "nbformat": 4,
 "nbformat_minor": 2
}
